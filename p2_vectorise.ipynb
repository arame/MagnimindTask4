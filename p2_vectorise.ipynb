{
 "cells": [
  {
   "attachments": {},
   "cell_type": "markdown",
   "metadata": {},
   "source": [
    "The data has been cleaned and stored in pickle files in p1_clean.ipynb.\n"
   ]
  },
  {
   "cell_type": "code",
   "execution_count": 1,
   "metadata": {},
   "outputs": [
    {
     "name": "stdout",
     "output_type": "stream",
     "text": [
      "2023-01-03 18:57:06,118 | INFO : Loading pickle file from: pickle\\pkl_df_text.pkl\n",
      "2023-01-03 18:57:06,390 | INFO : Loading pickle file from: pickle\\pkl_df_is_business.pkl\n"
     ]
    }
   ],
   "source": [
    "import logging, importlib, sys, tqdm\n",
    "import spacy\n",
    "import pandas as pd\n",
    "import os, re\n",
    "import pickle\n",
    "from sklearn.feature_extraction.text import CountVectorizer, TfidfTransformer\n",
    "from sklearn.model_selection import train_test_split\n",
    "from sklearn.svm import SVC\n",
    "from _pckle import save_pickle_object, load_pickle_object\n",
    "from _logging import set_logging\n",
    "from _graph import histplot_count, histplot_range_count\n",
    "from _utility import gl\n",
    "\n",
    "set_logging(logging)\n",
    "df_text = load_pickle_object(gl.pkl_df_text)\n",
    "df_is_business = load_pickle_object(gl.pkl_df_is_business)\n"
   ]
  },
  {
   "attachments": {},
   "cell_type": "markdown",
   "metadata": {},
   "source": [
    "Find out the balance of the dataset"
   ]
  },
  {
   "cell_type": "code",
   "execution_count": 2,
   "metadata": {},
   "outputs": [],
   "source": [
    "def get_balance_metric(df_is_business):\n",
    "    num_rows = len(df_is_business)\n",
    "    num_business = df_is_business.sum(axis=0)\n",
    "    number_in_business_category = num_business.values[0]\n",
    "    perc_business = (number_in_business_category / num_rows) * 100\n",
    "    return perc_business\n"
   ]
  },
  {
   "cell_type": "code",
   "execution_count": 3,
   "metadata": {},
   "outputs": [
    {
     "name": "stdout",
     "output_type": "stream",
     "text": [
      "2023-01-03 18:57:06,464 | INFO : The number of tweets in the business category are 20.94%\n"
     ]
    }
   ],
   "source": [
    "perc_business = get_balance_metric(df_is_business)\n",
    "logging.info(f\"The number of tweets in the business category are {round(perc_business, 2)}%\")"
   ]
  },
  {
   "attachments": {},
   "cell_type": "markdown",
   "metadata": {},
   "source": [
    "Now vectorise the tweets"
   ]
  },
  {
   "cell_type": "code",
   "execution_count": 10,
   "metadata": {},
   "outputs": [
    {
     "data": {
      "text/plain": [
       "<785916x189828 sparse matrix of type '<class 'numpy.int64'>'\n",
       "\twith 7196831 stored elements in Compressed Sparse Row format>"
      ]
     },
     "execution_count": 10,
     "metadata": {},
     "output_type": "execute_result"
    }
   ],
   "source": [
    "arr_text = df_text[gl.text].to_numpy()\n",
    "vectorizer = CountVectorizer(stop_words='english')\n",
    "X_vec = vectorizer.fit_transform(df_text[gl.text])\n",
    "X_vec "
   ]
  },
  {
   "cell_type": "code",
   "execution_count": 11,
   "metadata": {},
   "outputs": [
    {
     "data": {
      "text/plain": [
       "<785916x189828 sparse matrix of type '<class 'numpy.float64'>'\n",
       "\twith 7196831 stored elements in Compressed Sparse Row format>"
      ]
     },
     "execution_count": 11,
     "metadata": {},
     "output_type": "execute_result"
    }
   ],
   "source": [
    "tfidf = TfidfTransformer() # by default applies \"l2\" normalization\n",
    "X_tfidf = tfidf.fit_transform(X_vec)\n",
    "#X_tfidf = X_tfidf.todense()\n",
    "X_tfidf"
   ]
  },
  {
   "cell_type": "code",
   "execution_count": 13,
   "metadata": {},
   "outputs": [
    {
     "name": "stdout",
     "output_type": "stream",
     "text": [
      "2023-01-03 19:12:54,634 | INFO : Saving pickle file from: pickle\\pkl_X_tfidf.pkl\n"
     ]
    }
   ],
   "source": [
    "save_pickle_object(X_tfidf, gl.pkl_X_tfidf)"
   ]
  }
 ],
 "metadata": {
  "kernelspec": {
   "display_name": "base",
   "language": "python",
   "name": "python3"
  },
  "language_info": {
   "codemirror_mode": {
    "name": "ipython",
    "version": 3
   },
   "file_extension": ".py",
   "mimetype": "text/x-python",
   "name": "python",
   "nbconvert_exporter": "python",
   "pygments_lexer": "ipython3",
   "version": "3.9.13 (main, Aug 25 2022, 23:51:50) [MSC v.1916 64 bit (AMD64)]"
  },
  "orig_nbformat": 4,
  "vscode": {
   "interpreter": {
    "hash": "b41ba045e83f0be7a0a86cbeef029bed6bb1f3047ea5aef815a52ba8b6ba543c"
   }
  }
 },
 "nbformat": 4,
 "nbformat_minor": 2
}
