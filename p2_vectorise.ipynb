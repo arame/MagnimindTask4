{
 "cells": [
  {
   "attachments": {},
   "cell_type": "markdown",
   "metadata": {},
   "source": [
    "The data has been cleaned and stored in pickle files in p1_clean.ipynb.\n"
   ]
  },
  {
   "cell_type": "code",
   "execution_count": 1,
   "metadata": {},
   "outputs": [
    {
     "name": "stdout",
     "output_type": "stream",
     "text": [
      "2023-01-06 12:19:28,430 | INFO : Loading pickle file from: pickle\\pkl_df_text.pkl\n",
      "2023-01-06 12:19:28,438 | INFO : Loading pickle file from: pickle\\pkl_df_edInput.pkl\n"
     ]
    }
   ],
   "source": [
    "import logging, importlib, sys, tqdm\n",
    "import spacy\n",
    "import pandas as pd\n",
    "import os, re\n",
    "import pickle\n",
    "import spacy\n",
    "from nltk.stem.snowball import SnowballStemmer\n",
    "from sklearn.feature_extraction.text import CountVectorizer, TfidfTransformer\n",
    "from sklearn.model_selection import train_test_split\n",
    "from sklearn.svm import SVC\n",
    "from _pckle import save_pickle_object, load_pickle_object\n",
    "from _logging import set_logging\n",
    "from _graph import histplot_count, histplot_range_count\n",
    "from _utility import gl\n",
    "\n",
    "sp = spacy.load('en_core_web_md')\n",
    "stemmer = SnowballStemmer(language='english')\n",
    "set_logging(logging)\n",
    "df_text = load_pickle_object(gl.pkl_df_text)\n",
    "df_edInput = load_pickle_object(gl.pkl_df_edInput)\n"
   ]
  },
  {
   "attachments": {},
   "cell_type": "markdown",
   "metadata": {},
   "source": [
    "Find out the balance of the dataset"
   ]
  },
  {
   "cell_type": "code",
   "execution_count": 2,
   "metadata": {},
   "outputs": [],
   "source": [
    "def get_balance_metric(df_edInput):\n",
    "    num_rows = len(df_edInput)\n",
    "    num_class2 = len(df_edInput[df_edInput[gl.edInput] == 2])\n",
    "    perc_class2 = (num_class2 / num_rows) * 100\n",
    "    return perc_class2\n"
   ]
  },
  {
   "cell_type": "code",
   "execution_count": 3,
   "metadata": {},
   "outputs": [
    {
     "name": "stdout",
     "output_type": "stream",
     "text": [
      "2023-01-06 12:19:28,544 | INFO : The number of tweets in the of class 2 are 40.59%\n"
     ]
    }
   ],
   "source": [
    "perc_class2 = get_balance_metric(df_edInput)\n",
    "logging.info(f\"The number of tweets in the of class 2 are {round(perc_class2, 2)}%\")"
   ]
  },
  {
   "attachments": {},
   "cell_type": "markdown",
   "metadata": {},
   "source": [
    "Now vectorise the tweets. This converts the text into a matrix of token counts."
   ]
  },
  {
   "cell_type": "code",
   "execution_count": 4,
   "metadata": {},
   "outputs": [
    {
     "data": {
      "text/plain": [
       "<30024x25956 sparse matrix of type '<class 'numpy.int64'>'\n",
       "\twith 299816 stored elements in Compressed Sparse Row format>"
      ]
     },
     "execution_count": 4,
     "metadata": {},
     "output_type": "execute_result"
    }
   ],
   "source": [
    "df_text = df_text.to_frame()\n",
    "df_text.columns = [gl.text]\n",
    "vectorizer = CountVectorizer(stop_words='english')\n",
    "X_vec = vectorizer.fit_transform(df_text[gl.text])\n",
    "X_vec "
   ]
  },
  {
   "cell_type": "code",
   "execution_count": 5,
   "metadata": {},
   "outputs": [
    {
     "data": {
      "text/plain": [
       "<30024x25956 sparse matrix of type '<class 'numpy.float64'>'\n",
       "\twith 299816 stored elements in Compressed Sparse Row format>"
      ]
     },
     "execution_count": 5,
     "metadata": {},
     "output_type": "execute_result"
    }
   ],
   "source": [
    "tfidf = TfidfTransformer() # by default applies \"l2\" normalization\n",
    "X_tfidf = tfidf.fit_transform(X_vec)\n",
    "X_tfidf"
   ]
  },
  {
   "cell_type": "code",
   "execution_count": 6,
   "metadata": {},
   "outputs": [
    {
     "name": "stdout",
     "output_type": "stream",
     "text": [
      "2023-01-06 12:19:29,173 | INFO : Saving pickle file from: pickle\\pkl_X_tfidf.pkl\n"
     ]
    }
   ],
   "source": [
    "save_pickle_object(X_tfidf, gl.pkl_X_tfidf)"
   ]
  },
  {
   "attachments": {},
   "cell_type": "markdown",
   "metadata": {},
   "source": [
    "Do the same as above, but obtain the tf/idf matrix via tokens that have been stemmed and lemmatized"
   ]
  },
  {
   "cell_type": "code",
   "execution_count": 7,
   "metadata": {},
   "outputs": [],
   "source": [
    "def create_tfidf_matrix(df, pickle_file, ngram=None):\n",
    "\n",
    "\tvectorizer = CountVectorizer(stop_words='english') if ngram is None else CountVectorizer(stop_words='english', ngram_range = ngram)\n",
    "\tdf.columns.tolist()\n",
    "\tX_vec = vectorizer.fit_transform(df[gl.text])\n",
    "\ttfidf = TfidfTransformer() # by default applies \"l2\" normalization\n",
    "\tX_tfidf = tfidf.fit_transform(X_vec)\n",
    "\tsave_pickle_object(X_tfidf, pickle_file)"
   ]
  },
  {
   "attachments": {},
   "cell_type": "markdown",
   "metadata": {},
   "source": [
    "Now try brigrams and trigrams to see if we get different results downstream."
   ]
  },
  {
   "cell_type": "code",
   "execution_count": 9,
   "metadata": {},
   "outputs": [
    {
     "name": "stdout",
     "output_type": "stream",
     "text": [
      "2023-01-06 12:20:09,343 | INFO : Saving pickle file from: pickle\\pkl_X_bigram_tfidf.pkl\n",
      "2023-01-06 12:20:10,302 | INFO : Saving pickle file from: pickle\\pkl_X_trigram_tfidf.pkl\n"
     ]
    }
   ],
   "source": [
    "bigram = (2, 2)\n",
    "trigram = (3, 3)\n",
    "create_tfidf_matrix(df_text, gl.pkl_X_bigram_tfidf, bigram)\n",
    "create_tfidf_matrix(df_text, gl.pkl_X_trigram_tfidf, trigram)"
   ]
  },
  {
   "attachments": {},
   "cell_type": "markdown",
   "metadata": {},
   "source": [
    "This time we will apply stemming to the text and see if we get different results downstream.<br>\n",
    "First we tokenise the text via Spacy, then we use NLTK stemming."
   ]
  },
  {
   "cell_type": "code",
   "execution_count": 10,
   "metadata": {},
   "outputs": [
    {
     "data": {
      "text/html": [
       "<div>\n",
       "<style scoped>\n",
       "    .dataframe tbody tr th:only-of-type {\n",
       "        vertical-align: middle;\n",
       "    }\n",
       "\n",
       "    .dataframe tbody tr th {\n",
       "        vertical-align: top;\n",
       "    }\n",
       "\n",
       "    .dataframe thead th {\n",
       "        text-align: right;\n",
       "    }\n",
       "</style>\n",
       "<table border=\"1\" class=\"dataframe\">\n",
       "  <thead>\n",
       "    <tr style=\"text-align: right;\">\n",
       "      <th></th>\n",
       "      <th>text</th>\n",
       "    </tr>\n",
       "  </thead>\n",
       "  <tbody>\n",
       "    <tr>\n",
       "      <th>12252</th>\n",
       "      <td>5402612 uk prime minist theresa may will face ...</td>\n",
       "    </tr>\n",
       "    <tr>\n",
       "      <th>14042</th>\n",
       "      <td>5402612 uk pm theresa may win confid vote with...</td>\n",
       "    </tr>\n",
       "    <tr>\n",
       "      <th>16954</th>\n",
       "      <td>705706292 the probe of the inaugur fund part a...</td>\n",
       "    </tr>\n",
       "    <tr>\n",
       "      <th>18004</th>\n",
       "      <td>25984418 the week brexit hit the brick wall : ...</td>\n",
       "    </tr>\n",
       "    <tr>\n",
       "      <th>18396</th>\n",
       "      <td>61183568 have watch these kind of pictur look ...</td>\n",
       "    </tr>\n",
       "    <tr>\n",
       "      <th>...</th>\n",
       "      <td>...</td>\n",
       "    </tr>\n",
       "    <tr>\n",
       "      <th>785779</th>\n",
       "      <td>4805771380 this bouquet of rose is complet edibl</td>\n",
       "    </tr>\n",
       "    <tr>\n",
       "      <th>785809</th>\n",
       "      <td>4805771380 this fanci mcdonald has a handwash ...</td>\n",
       "    </tr>\n",
       "    <tr>\n",
       "      <th>785813</th>\n",
       "      <td>2401975454   spoiler ahead finish # strangerth...</td>\n",
       "    </tr>\n",
       "    <tr>\n",
       "      <th>785829</th>\n",
       "      <td>4805771380 these cake are top with yogurt</td>\n",
       "    </tr>\n",
       "    <tr>\n",
       "      <th>785854</th>\n",
       "      <td>4805771380 are you team shake shack or team in...</td>\n",
       "    </tr>\n",
       "  </tbody>\n",
       "</table>\n",
       "<p>30024 rows × 1 columns</p>\n",
       "</div>"
      ],
      "text/plain": [
       "                                                     text\n",
       "12252   5402612 uk prime minist theresa may will face ...\n",
       "14042   5402612 uk pm theresa may win confid vote with...\n",
       "16954   705706292 the probe of the inaugur fund part a...\n",
       "18004   25984418 the week brexit hit the brick wall : ...\n",
       "18396   61183568 have watch these kind of pictur look ...\n",
       "...                                                   ...\n",
       "785779   4805771380 this bouquet of rose is complet edibl\n",
       "785809  4805771380 this fanci mcdonald has a handwash ...\n",
       "785813  2401975454   spoiler ahead finish # strangerth...\n",
       "785829          4805771380 these cake are top with yogurt\n",
       "785854  4805771380 are you team shake shack or team in...\n",
       "\n",
       "[30024 rows x 1 columns]"
      ]
     },
     "execution_count": 10,
     "metadata": {},
     "output_type": "execute_result"
    }
   ],
   "source": [
    "df_stem_text = df_text[gl.text].apply(lambda x: \" \".join([stemmer.stem(t.text) for t in sp.tokenizer(x)])).to_frame()\n",
    "df_stem_text.columns = [gl.text]\n",
    "df_stem_text"
   ]
  },
  {
   "cell_type": "code",
   "execution_count": 11,
   "metadata": {},
   "outputs": [
    {
     "name": "stdout",
     "output_type": "stream",
     "text": [
      "2023-01-06 12:20:18,416 | INFO : Saving pickle file from: pickle\\pkl_X_stem_tfidf.pkl\n"
     ]
    }
   ],
   "source": [
    "create_tfidf_matrix(df_stem_text, gl.pkl_X_stem_tfidf)"
   ]
  },
  {
   "attachments": {},
   "cell_type": "markdown",
   "metadata": {},
   "source": [
    "Now try lemmatization"
   ]
  },
  {
   "cell_type": "code",
   "execution_count": 12,
   "metadata": {},
   "outputs": [
    {
     "data": {
      "text/html": [
       "<div>\n",
       "<style scoped>\n",
       "    .dataframe tbody tr th:only-of-type {\n",
       "        vertical-align: middle;\n",
       "    }\n",
       "\n",
       "    .dataframe tbody tr th {\n",
       "        vertical-align: top;\n",
       "    }\n",
       "\n",
       "    .dataframe thead th {\n",
       "        text-align: right;\n",
       "    }\n",
       "</style>\n",
       "<table border=\"1\" class=\"dataframe\">\n",
       "  <thead>\n",
       "    <tr style=\"text-align: right;\">\n",
       "      <th></th>\n",
       "      <th>text</th>\n",
       "    </tr>\n",
       "  </thead>\n",
       "  <tbody>\n",
       "    <tr>\n",
       "      <th>12252</th>\n",
       "      <td>5402612 UK Prime Minister Theresa May will fac...</td>\n",
       "    </tr>\n",
       "    <tr>\n",
       "      <th>14042</th>\n",
       "      <td>5402612 UK PM Theresa May win confidence vote ...</td>\n",
       "    </tr>\n",
       "    <tr>\n",
       "      <th>16954</th>\n",
       "      <td>705706292 the probe of the inaugural fund part...</td>\n",
       "    </tr>\n",
       "    <tr>\n",
       "      <th>18004</th>\n",
       "      <td>25984418 the week Brexit hit the brick wall : ...</td>\n",
       "    </tr>\n",
       "    <tr>\n",
       "      <th>18396</th>\n",
       "      <td>61183568 have watch these kind of picture look...</td>\n",
       "    </tr>\n",
       "    <tr>\n",
       "      <th>...</th>\n",
       "      <td>...</td>\n",
       "    </tr>\n",
       "    <tr>\n",
       "      <th>785779</th>\n",
       "      <td>4805771380 this bouquet of rose be completely ...</td>\n",
       "    </tr>\n",
       "    <tr>\n",
       "      <th>785809</th>\n",
       "      <td>4805771380 this fancy McDonalds have a handwas...</td>\n",
       "    </tr>\n",
       "    <tr>\n",
       "      <th>785813</th>\n",
       "      <td>2401975454   spoiler ahead finished # Stranger...</td>\n",
       "    </tr>\n",
       "    <tr>\n",
       "      <th>785829</th>\n",
       "      <td>4805771380 these cake be top with yogurt</td>\n",
       "    </tr>\n",
       "    <tr>\n",
       "      <th>785854</th>\n",
       "      <td>4805771380 be you team Shake Shack or team InNOut</td>\n",
       "    </tr>\n",
       "  </tbody>\n",
       "</table>\n",
       "<p>30024 rows × 1 columns</p>\n",
       "</div>"
      ],
      "text/plain": [
       "                                                     text\n",
       "12252   5402612 UK Prime Minister Theresa May will fac...\n",
       "14042   5402612 UK PM Theresa May win confidence vote ...\n",
       "16954   705706292 the probe of the inaugural fund part...\n",
       "18004   25984418 the week Brexit hit the brick wall : ...\n",
       "18396   61183568 have watch these kind of picture look...\n",
       "...                                                   ...\n",
       "785779  4805771380 this bouquet of rose be completely ...\n",
       "785809  4805771380 this fancy McDonalds have a handwas...\n",
       "785813  2401975454   spoiler ahead finished # Stranger...\n",
       "785829           4805771380 these cake be top with yogurt\n",
       "785854  4805771380 be you team Shake Shack or team InNOut\n",
       "\n",
       "[30024 rows x 1 columns]"
      ]
     },
     "execution_count": 12,
     "metadata": {},
     "output_type": "execute_result"
    }
   ],
   "source": [
    "df_lem_text = df_text[gl.text].apply(lambda x: \" \".join([t.lemma_ for t in sp(x)])).to_frame()\n",
    "df_lem_text.columns = [gl.text]\n",
    "df_lem_text"
   ]
  },
  {
   "cell_type": "code",
   "execution_count": 13,
   "metadata": {},
   "outputs": [
    {
     "name": "stdout",
     "output_type": "stream",
     "text": [
      "2023-01-06 12:23:25,060 | INFO : Saving pickle file from: pickle\\pkl_X_lem_tfidf.pkl\n"
     ]
    }
   ],
   "source": [
    "create_tfidf_matrix(df_lem_text, gl.pkl_X_lem_tfidf)"
   ]
  }
 ],
 "metadata": {
  "kernelspec": {
   "display_name": "base",
   "language": "python",
   "name": "python3"
  },
  "language_info": {
   "codemirror_mode": {
    "name": "ipython",
    "version": 3
   },
   "file_extension": ".py",
   "mimetype": "text/x-python",
   "name": "python",
   "nbconvert_exporter": "python",
   "pygments_lexer": "ipython3",
   "version": "3.9.13 (main, Aug 25 2022, 23:51:50) [MSC v.1916 64 bit (AMD64)]"
  },
  "orig_nbformat": 4,
  "vscode": {
   "interpreter": {
    "hash": "b41ba045e83f0be7a0a86cbeef029bed6bb1f3047ea5aef815a52ba8b6ba543c"
   }
  }
 },
 "nbformat": 4,
 "nbformat_minor": 2
}
