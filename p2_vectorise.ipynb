{
 "cells": [
  {
   "attachments": {},
   "cell_type": "markdown",
   "metadata": {},
   "source": [
    "The data has been cleaned and stored in pickle files in p1_clean.ipynb.\n"
   ]
  },
  {
   "cell_type": "code",
   "execution_count": 1,
   "metadata": {},
   "outputs": [
    {
     "name": "stdout",
     "output_type": "stream",
     "text": [
      "2023-01-05 11:23:26,494 | INFO : Loading pickle file from: pickle\\pkl_df_text.pkl\n",
      "2023-01-05 11:23:26,510 | INFO : Loading pickle file from: pickle\\pkl_df_edInput.pkl\n"
     ]
    }
   ],
   "source": [
    "import logging, importlib, sys, tqdm\n",
    "import spacy\n",
    "import pandas as pd\n",
    "import os, re\n",
    "import pickle\n",
    "from sklearn.feature_extraction.text import CountVectorizer, TfidfTransformer\n",
    "from sklearn.model_selection import train_test_split\n",
    "from sklearn.svm import SVC\n",
    "from _pckle import save_pickle_object, load_pickle_object\n",
    "from _logging import set_logging\n",
    "from _graph import histplot_count, histplot_range_count\n",
    "from _utility import gl\n",
    "\n",
    "set_logging(logging)\n",
    "df_text = load_pickle_object(gl.pkl_df_text)\n",
    "df_edInput = load_pickle_object(gl.pkl_df_edInput)\n"
   ]
  },
  {
   "attachments": {},
   "cell_type": "markdown",
   "metadata": {},
   "source": [
    "Find out the balance of the dataset"
   ]
  },
  {
   "cell_type": "code",
   "execution_count": 2,
   "metadata": {},
   "outputs": [],
   "source": [
    "def get_balance_metric(df_edInput):\n",
    "    num_rows = len(df_edInput)\n",
    "    num_class2 = len(df_edInput[df_edInput[gl.edInput] == 2])\n",
    "    perc_class2 = (num_class2 / num_rows) * 100\n",
    "    return perc_class2\n"
   ]
  },
  {
   "cell_type": "code",
   "execution_count": 3,
   "metadata": {},
   "outputs": [
    {
     "name": "stdout",
     "output_type": "stream",
     "text": [
      "2023-01-05 11:23:26,599 | INFO : The number of tweets in the of class 2 are 40.59%\n"
     ]
    }
   ],
   "source": [
    "perc_class2 = get_balance_metric(df_edInput)\n",
    "logging.info(f\"The number of tweets in the of class 2 are {round(perc_class2, 2)}%\")"
   ]
  },
  {
   "attachments": {},
   "cell_type": "markdown",
   "metadata": {},
   "source": [
    "Now vectorise the tweets"
   ]
  },
  {
   "cell_type": "code",
   "execution_count": 6,
   "metadata": {},
   "outputs": [
    {
     "data": {
      "text/plain": [
       "<30024x25956 sparse matrix of type '<class 'numpy.int64'>'\n",
       "\twith 299816 stored elements in Compressed Sparse Row format>"
      ]
     },
     "execution_count": 6,
     "metadata": {},
     "output_type": "execute_result"
    }
   ],
   "source": [
    "df_text = df_text.to_frame()\n",
    "df_text.columns = [gl.text]\n",
    "vectorizer = CountVectorizer(stop_words='english')\n",
    "X_vec = vectorizer.fit_transform(df_text[gl.text])\n",
    "X_vec "
   ]
  },
  {
   "cell_type": "code",
   "execution_count": 7,
   "metadata": {},
   "outputs": [
    {
     "data": {
      "text/plain": [
       "<30024x25956 sparse matrix of type '<class 'numpy.float64'>'\n",
       "\twith 299816 stored elements in Compressed Sparse Row format>"
      ]
     },
     "execution_count": 7,
     "metadata": {},
     "output_type": "execute_result"
    }
   ],
   "source": [
    "tfidf = TfidfTransformer() # by default applies \"l2\" normalization\n",
    "X_tfidf = tfidf.fit_transform(X_vec)\n",
    "#X_tfidf = X_tfidf.todense()\n",
    "X_tfidf"
   ]
  },
  {
   "cell_type": "code",
   "execution_count": 8,
   "metadata": {},
   "outputs": [
    {
     "name": "stdout",
     "output_type": "stream",
     "text": [
      "2023-01-05 11:29:29,965 | INFO : Saving pickle file from: pickle\\pkl_X_tfidf.pkl\n"
     ]
    }
   ],
   "source": [
    "save_pickle_object(X_tfidf, gl.pkl_X_tfidf)"
   ]
  }
 ],
 "metadata": {
  "kernelspec": {
   "display_name": "base",
   "language": "python",
   "name": "python3"
  },
  "language_info": {
   "codemirror_mode": {
    "name": "ipython",
    "version": 3
   },
   "file_extension": ".py",
   "mimetype": "text/x-python",
   "name": "python",
   "nbconvert_exporter": "python",
   "pygments_lexer": "ipython3",
   "version": "3.9.13"
  },
  "orig_nbformat": 4,
  "vscode": {
   "interpreter": {
    "hash": "b41ba045e83f0be7a0a86cbeef029bed6bb1f3047ea5aef815a52ba8b6ba543c"
   }
  }
 },
 "nbformat": 4,
 "nbformat_minor": 2
}
