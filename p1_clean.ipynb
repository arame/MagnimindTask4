{
 "cells": [
  {
   "attachments": {},
   "cell_type": "markdown",
   "metadata": {},
   "source": [
    "Task 4 Classifying tweets into business or not business categories"
   ]
  },
  {
   "cell_type": "code",
   "execution_count": 1,
   "metadata": {},
   "outputs": [],
   "source": [
    "import logging, importlib, sys, tqdm\n",
    "import pandas as pd\n",
    "import os, re\n",
    "import neattext.functions as nfx\n",
    "from _pckle import save_pickle_object, load_pickle_object\n",
    "from _logging import set_logging\n",
    "from _utility import gl\n",
    "\n",
    "set_logging(logging)\n",
    "for folder in gl.output_folders:\n",
    "    if os.path.exists(folder):\n",
    "        continue\n",
    "    os.makedirs(folder) "
   ]
  },
  {
   "attachments": {},
   "cell_type": "markdown",
   "metadata": {},
   "source": [
    "Read the Twitter File"
   ]
  },
  {
   "cell_type": "code",
   "execution_count": 2,
   "metadata": {},
   "outputs": [],
   "source": [
    "def read_tweets():\n",
    "    folder = \"Files\"\n",
    "    filename = \"tweet_data.csv\"\n",
    "    path = os.path.join(folder, filename)\n",
    "    df_tweets_orig = pd.read_csv(path)\n",
    "    return df_tweets_orig\n"
   ]
  },
  {
   "cell_type": "code",
   "execution_count": 3,
   "metadata": {},
   "outputs": [
    {
     "name": "stdout",
     "output_type": "stream",
     "text": [
      "<class 'pandas.core.frame.DataFrame'>\n",
      "RangeIndex: 785916 entries, 0 to 785915\n",
      "Data columns (total 18 columns):\n",
      " #   Column      Non-Null Count   Dtype \n",
      "---  ------      --------------   ----- \n",
      " 0   tweetID     785916 non-null  int64 \n",
      " 1   crDate      785916 non-null  object\n",
      " 2   edInput     785916 non-null  int64 \n",
      " 3   editor      785916 non-null  int64 \n",
      " 4   engages     785916 non-null  int64 \n",
      " 5   isApproved  785916 non-null  bool  \n",
      " 6   isEdNeed    785916 non-null  bool  \n",
      " 7   isRT        785916 non-null  bool  \n",
      " 8   likes       785916 non-null  int64 \n",
      " 9   photoUrl    277896 non-null  object\n",
      " 10  retweets    785916 non-null  int64 \n",
      " 11  rtUsID      785916 non-null  int64 \n",
      " 12  text        785916 non-null  object\n",
      " 13  topicName   785916 non-null  object\n",
      " 14  usFlwrs     785916 non-null  int64 \n",
      " 15  usID        785916 non-null  int64 \n",
      " 16  usName      785916 non-null  object\n",
      " 17  videoUrl    140491 non-null  object\n",
      "dtypes: bool(3), int64(9), object(6)\n",
      "memory usage: 92.2+ MB\n"
     ]
    }
   ],
   "source": [
    "df_tweets_orig = read_tweets()\n",
    "df_tweets_orig.info()"
   ]
  },
  {
   "attachments": {},
   "cell_type": "markdown",
   "metadata": {},
   "source": [
    "Clean the text of the tweets\n",
    "Some tweets may be identified as business tweets by the hashtages and numbers, so these are kept in.\n",
    "For now stopwords are also kept in but this may change."
   ]
  },
  {
   "cell_type": "code",
   "execution_count": 4,
   "metadata": {},
   "outputs": [],
   "source": [
    "def clean_tweet(item):\n",
    "    NEW_LINE = re.compile(r'\\s+|\\\\n')\n",
    "    text = item.values[0]\n",
    "    text = nfx.remove_emojis(text)\n",
    "    text = nfx.remove_bad_quotes(text)\n",
    "    text = nfx.remove_html_tags(text)\n",
    "    text = nfx.remove_userhandles(text)\n",
    "    text = nfx.remove_urls(text)\n",
    "    text = nfx.remove_emails(text)\n",
    "    text = nfx.remove_phone_numbers(text)\n",
    "    text = nfx.remove_multiple_spaces(text)\n",
    "    text = nfx.remove_dates(text)\n",
    "    text = nfx.remove_punctuations(text, most_common=True)\n",
    "    text = re.sub(NEW_LINE, \" \", text)     # remove /n\n",
    "    text = nfx.remove_non_ascii(text)\n",
    "    text = nfx.remove_numbers(text)\n",
    "    item.values[0] = text\n",
    "    return text"
   ]
  },
  {
   "attachments": {},
   "cell_type": "markdown",
   "metadata": {},
   "source": [
    "Only select the relavant columns, text for the tweet and topicName for the label"
   ]
  },
  {
   "cell_type": "code",
   "execution_count": 5,
   "metadata": {},
   "outputs": [],
   "source": [
    "def clean_data(df_tweets_orig):\n",
    "    df_filtered = df_tweets_orig[df_tweets_orig[gl.topic] == \"Business\"]\n",
    "    df_filtered.query(f\"{gl.edInput} == 1 or {gl.edInput} == 2\", inplace=True ) \n",
    "    df_text_orig = df_filtered.get([gl.text])\n",
    "    df_edInput = df_filtered.get([gl.edInput])\n",
    "    df_text_cleaned = df_text_orig.apply(clean_tweet, axis=1).to_frame()\n",
    "    # the usID column contains the code of the data source, for example \"Business insider\"\n",
    "    # Now that numbers have been cleaned from the text, put this numeric code in the text\n",
    "    df_usId = df_filtered.get([gl.usID])\n",
    "    df_usId.columns = [gl.usID]\n",
    "    df_text_cleaned.columns = [gl.text]\n",
    "    df_text = df_usId[gl.usID].astype(\"str\") + \" \" + df_text_cleaned[gl.text]\n",
    "    df_text.columns = [gl.text] \n",
    "    df_edInput.columns = [gl.edInput]\n",
    "    return df_text, df_edInput\n"
   ]
  },
  {
   "attachments": {},
   "cell_type": "markdown",
   "metadata": {},
   "source": [
    "The df_text dataframe contains the tweet that has been cleaned.<br>\n",
    "The df_is_business dataframe contains the one hot encoded label that indicates whether the tweet is classified as a business tweet. A value of 1 indicates that it is, and zero that it is not."
   ]
  },
  {
   "cell_type": "code",
   "execution_count": 6,
   "metadata": {},
   "outputs": [
    {
     "name": "stderr",
     "output_type": "stream",
     "text": [
      "C:\\Users\\hijik\\AppData\\Local\\Temp\\ipykernel_10620\\3447622910.py:3: SettingWithCopyWarning: \n",
      "A value is trying to be set on a copy of a slice from a DataFrame\n",
      "\n",
      "See the caveats in the documentation: https://pandas.pydata.org/pandas-docs/stable/user_guide/indexing.html#returning-a-view-versus-a-copy\n",
      "  df_filtered.query(f\"{gl.edInput} == 1 or {gl.edInput} == 2\", inplace=True )\n"
     ]
    },
    {
     "data": {
      "text/plain": [
       "12252     5402612 UK Prime Minister Theresa May will fac...\n",
       "14042     5402612 UK PM Theresa May wins confidence vote...\n",
       "16954     705706292 The probe of the inaugural fund part...\n",
       "18004     25984418 The week Brexit hit the brick wall : ...\n",
       "18396     61183568 Have watched these kinds of pictures ...\n",
       "                                ...                        \n",
       "785779    4805771380 This bouquet of roses is completely...\n",
       "785809    4805771380 This fancy McDonalds has a handwash...\n",
       "785813    2401975454  Spoilers ahead Finished #StrangerT...\n",
       "785829       4805771380 These cakes are topped with yogurt \n",
       "785854    4805771380 Are you team Shake Shack or team In...\n",
       "Length: 30024, dtype: object"
      ]
     },
     "execution_count": 6,
     "metadata": {},
     "output_type": "execute_result"
    }
   ],
   "source": [
    "df_text, df_edInput = clean_data(df_tweets_orig)\n",
    "df_text"
   ]
  },
  {
   "attachments": {},
   "cell_type": "markdown",
   "metadata": {},
   "source": [
    "This code takes a while to run, so store the dataframes in a pickle file and start a new script\n"
   ]
  },
  {
   "cell_type": "code",
   "execution_count": 7,
   "metadata": {},
   "outputs": [
    {
     "name": "stdout",
     "output_type": "stream",
     "text": [
      "2023-01-04 23:13:00,893 | INFO : Saving pickle file from: pickle\\pkl_df_text.pkl\n",
      "2023-01-04 23:13:00,911 | INFO : Saving pickle file from: pickle\\pkl_df_edInput.pkl\n"
     ]
    }
   ],
   "source": [
    "save_pickle_object(df_text, gl.pkl_df_text)\n",
    "save_pickle_object(df_edInput, gl.pkl_df_edInput)"
   ]
  }
 ],
 "metadata": {
  "kernelspec": {
   "display_name": "base",
   "language": "python",
   "name": "python3"
  },
  "language_info": {
   "codemirror_mode": {
    "name": "ipython",
    "version": 3
   },
   "file_extension": ".py",
   "mimetype": "text/x-python",
   "name": "python",
   "nbconvert_exporter": "python",
   "pygments_lexer": "ipython3",
   "version": "3.9.13"
  },
  "orig_nbformat": 4,
  "vscode": {
   "interpreter": {
    "hash": "b41ba045e83f0be7a0a86cbeef029bed6bb1f3047ea5aef815a52ba8b6ba543c"
   }
  }
 },
 "nbformat": 4,
 "nbformat_minor": 2
}
