{
 "cells": [
  {
   "attachments": {},
   "cell_type": "markdown",
   "metadata": {},
   "source": [
    "Task 4 Classifying tweets into business or not business categories"
   ]
  },
  {
   "cell_type": "code",
   "execution_count": 1,
   "metadata": {},
   "outputs": [],
   "source": [
    "import logging, importlib, sys, tqdm\n",
    "import pandas as pd\n",
    "import os, re\n",
    "import neattext.functions as nfx\n",
    "from _pckle import save_pickle_object, load_pickle_object\n",
    "from _logging import set_logging\n",
    "from _utility import gl\n",
    "\n",
    "set_logging(logging)\n",
    "for folder in gl.output_folders:\n",
    "    if os.path.exists(folder):\n",
    "        continue\n",
    "    os.makedirs(folder) "
   ]
  },
  {
   "attachments": {},
   "cell_type": "markdown",
   "metadata": {},
   "source": [
    "Read the Twitter File"
   ]
  },
  {
   "cell_type": "code",
   "execution_count": 2,
   "metadata": {},
   "outputs": [],
   "source": [
    "def read_tweets():\n",
    "    folder = \"Files\"\n",
    "    filename = \"tweet_data.csv\"\n",
    "    path = os.path.join(folder, filename)\n",
    "    df_tweets_orig = pd.read_csv(path)\n",
    "    return df_tweets_orig\n"
   ]
  },
  {
   "cell_type": "code",
   "execution_count": 3,
   "metadata": {},
   "outputs": [
    {
     "name": "stdout",
     "output_type": "stream",
     "text": [
      "<class 'pandas.core.frame.DataFrame'>\n",
      "RangeIndex: 785916 entries, 0 to 785915\n",
      "Data columns (total 18 columns):\n",
      " #   Column      Non-Null Count   Dtype \n",
      "---  ------      --------------   ----- \n",
      " 0   tweetID     785916 non-null  int64 \n",
      " 1   crDate      785916 non-null  object\n",
      " 2   edInput     785916 non-null  int64 \n",
      " 3   editor      785916 non-null  int64 \n",
      " 4   engages     785916 non-null  int64 \n",
      " 5   isApproved  785916 non-null  bool  \n",
      " 6   isEdNeed    785916 non-null  bool  \n",
      " 7   isRT        785916 non-null  bool  \n",
      " 8   likes       785916 non-null  int64 \n",
      " 9   photoUrl    277896 non-null  object\n",
      " 10  retweets    785916 non-null  int64 \n",
      " 11  rtUsID      785916 non-null  int64 \n",
      " 12  text        785916 non-null  object\n",
      " 13  topicName   785916 non-null  object\n",
      " 14  usFlwrs     785916 non-null  int64 \n",
      " 15  usID        785916 non-null  int64 \n",
      " 16  usName      785916 non-null  object\n",
      " 17  videoUrl    140491 non-null  object\n",
      "dtypes: bool(3), int64(9), object(6)\n",
      "memory usage: 92.2+ MB\n"
     ]
    }
   ],
   "source": [
    "df_tweets_orig = read_tweets()\n",
    "df_tweets_orig.info()"
   ]
  },
  {
   "attachments": {},
   "cell_type": "markdown",
   "metadata": {},
   "source": [
    "Clean the text of the tweets\n",
    "Some tweets may be identified as business tweets by the hashtages and numbers, so these are kept in.\n",
    "For now stopwords are also kept in but this may change."
   ]
  },
  {
   "cell_type": "code",
   "execution_count": 4,
   "metadata": {},
   "outputs": [],
   "source": [
    "def clean_tweet(item):\n",
    "    NEW_LINE = re.compile(r'\\s+|\\\\n')\n",
    "    text = item.values[0]\n",
    "    text = nfx.remove_emojis(text)\n",
    "    text = nfx.remove_bad_quotes(text)\n",
    "    text = nfx.remove_html_tags(text)\n",
    "    text = nfx.remove_userhandles(text)\n",
    "    text = nfx.remove_urls(text)\n",
    "    text = nfx.remove_emails(text)\n",
    "    text = nfx.remove_phone_numbers(text)\n",
    "    text = nfx.remove_multiple_spaces(text)\n",
    "    text = nfx.remove_dates(text)\n",
    "    text = nfx.remove_punctuations(text, most_common=True)\n",
    "    text = re.sub(NEW_LINE, \" \", text)     # remove /n\n",
    "    text = nfx.remove_non_ascii(text)\n",
    "    item.values[0] = text\n",
    "    return text"
   ]
  },
  {
   "cell_type": "code",
   "execution_count": 5,
   "metadata": {},
   "outputs": [],
   "source": [
    "def get_one_hot_encoded_business_category(df_topicNames):\n",
    "    df_one_hot_topics = pd.get_dummies(df_topicNames)\n",
    "    df_is_business =  df_one_hot_topics[\"topicName_Business\"].to_frame()\n",
    "    df_is_business.rename(columns = {'topicName_Business':gl.is_business}, inplace = True)\n",
    "    return df_is_business"
   ]
  },
  {
   "attachments": {},
   "cell_type": "markdown",
   "metadata": {},
   "source": [
    "Only select the relavant columns, text for the tweet and topicName for the label"
   ]
  },
  {
   "cell_type": "code",
   "execution_count": 6,
   "metadata": {},
   "outputs": [],
   "source": [
    "def clean_data(df_tweets_orig):\n",
    "    df_text_orig = df_tweets_orig.get([gl.text])\n",
    "    df_text = df_text_orig.apply(clean_tweet, axis=1).to_frame()\n",
    "    df_text.columns = [gl.text] \n",
    "    df_topicNames = df_tweets_orig.get([gl.topic])\n",
    "    df_is_business = get_one_hot_encoded_business_category(df_topicNames)\n",
    "    return df_text, df_is_business\n"
   ]
  },
  {
   "attachments": {},
   "cell_type": "markdown",
   "metadata": {},
   "source": [
    "The df_text dataframe contains the tweet that has been cleaned.<br>\n",
    "The df_is_business dataframe contains the one hot encoded label that indicates whether the tweet is classified as a business tweet. A value of 1 indicates that it is, and zero that it is not."
   ]
  },
  {
   "cell_type": "code",
   "execution_count": 7,
   "metadata": {},
   "outputs": [
    {
     "data": {
      "text/html": [
       "<div>\n",
       "<style scoped>\n",
       "    .dataframe tbody tr th:only-of-type {\n",
       "        vertical-align: middle;\n",
       "    }\n",
       "\n",
       "    .dataframe tbody tr th {\n",
       "        vertical-align: top;\n",
       "    }\n",
       "\n",
       "    .dataframe thead th {\n",
       "        text-align: right;\n",
       "    }\n",
       "</style>\n",
       "<table border=\"1\" class=\"dataframe\">\n",
       "  <thead>\n",
       "    <tr style=\"text-align: right;\">\n",
       "      <th></th>\n",
       "      <th>text</th>\n",
       "    </tr>\n",
       "  </thead>\n",
       "  <tbody>\n",
       "    <tr>\n",
       "      <th>0</th>\n",
       "      <td>The immediate impulse for an alliance of the E...</td>\n",
       "    </tr>\n",
       "    <tr>\n",
       "      <th>1</th>\n",
       "      <td>Americas economy is flashing some warning sign...</td>\n",
       "    </tr>\n",
       "    <tr>\n",
       "      <th>2</th>\n",
       "      <td>Lyft files for what is expected to be one of t...</td>\n",
       "    </tr>\n",
       "    <tr>\n",
       "      <th>3</th>\n",
       "      <td>Exporters still waiting to get Rs 6000 crore w...</td>\n",
       "    </tr>\n",
       "    <tr>\n",
       "      <th>4</th>\n",
       "      <td>Ridehailing firm Lyft races to leave Uber behi...</td>\n",
       "    </tr>\n",
       "    <tr>\n",
       "      <th>...</th>\n",
       "      <td>...</td>\n",
       "    </tr>\n",
       "    <tr>\n",
       "      <th>785911</th>\n",
       "      <td>Relations are DIFFERENT not DIFFICULT</td>\n",
       "    </tr>\n",
       "    <tr>\n",
       "      <th>785912</th>\n",
       "      <td>to live a creative life we must lose our fear ...</td>\n",
       "    </tr>\n",
       "    <tr>\n",
       "      <th>785913</th>\n",
       "      <td>Whos your comic crush</td>\n",
       "    </tr>\n",
       "    <tr>\n",
       "      <th>785914</th>\n",
       "      <td>After a flight of 195 hours 18 minutes 35 seco...</td>\n",
       "    </tr>\n",
       "    <tr>\n",
       "      <th>785915</th>\n",
       "      <td>Scarfaces Action Figure Tony Montana cutting o...</td>\n",
       "    </tr>\n",
       "  </tbody>\n",
       "</table>\n",
       "<p>785916 rows × 1 columns</p>\n",
       "</div>"
      ],
      "text/plain": [
       "                                                     text\n",
       "0       The immediate impulse for an alliance of the E...\n",
       "1       Americas economy is flashing some warning sign...\n",
       "2       Lyft files for what is expected to be one of t...\n",
       "3       Exporters still waiting to get Rs 6000 crore w...\n",
       "4       Ridehailing firm Lyft races to leave Uber behi...\n",
       "...                                                   ...\n",
       "785911              Relations are DIFFERENT not DIFFICULT\n",
       "785912  to live a creative life we must lose our fear ...\n",
       "785913                             Whos your comic crush \n",
       "785914  After a flight of 195 hours 18 minutes 35 seco...\n",
       "785915  Scarfaces Action Figure Tony Montana cutting o...\n",
       "\n",
       "[785916 rows x 1 columns]"
      ]
     },
     "execution_count": 7,
     "metadata": {},
     "output_type": "execute_result"
    }
   ],
   "source": [
    "df_text, df_is_business = clean_data(df_tweets_orig)\n",
    "df_text"
   ]
  },
  {
   "attachments": {},
   "cell_type": "markdown",
   "metadata": {},
   "source": [
    "This code takes a while to run, so store the dataframes in a pickle file and start a new script\n"
   ]
  },
  {
   "cell_type": "code",
   "execution_count": 8,
   "metadata": {},
   "outputs": [
    {
     "name": "stdout",
     "output_type": "stream",
     "text": [
      "2023-01-03 14:23:48,943 | INFO : Saving pickle file from: pickle\\pkl_df_text.pkl\n",
      "2023-01-03 14:23:49,299 | INFO : Saving pickle file from: pickle\\pkl_df_is_business.pkl\n"
     ]
    }
   ],
   "source": [
    "save_pickle_object(df_text, gl.pkl_df_text)\n",
    "save_pickle_object(df_is_business, gl.pkl_df_is_business)"
   ]
  }
 ],
 "metadata": {
  "kernelspec": {
   "display_name": "base",
   "language": "python",
   "name": "python3"
  },
  "language_info": {
   "codemirror_mode": {
    "name": "ipython",
    "version": 3
   },
   "file_extension": ".py",
   "mimetype": "text/x-python",
   "name": "python",
   "nbconvert_exporter": "python",
   "pygments_lexer": "ipython3",
   "version": "3.9.13"
  },
  "orig_nbformat": 4,
  "vscode": {
   "interpreter": {
    "hash": "b41ba045e83f0be7a0a86cbeef029bed6bb1f3047ea5aef815a52ba8b6ba543c"
   }
  }
 },
 "nbformat": 4,
 "nbformat_minor": 2
}
